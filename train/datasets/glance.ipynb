{
 "cells": [
  {
   "metadata": {},
   "cell_type": "code",
   "outputs": [],
   "execution_count": null,
   "source": [
    "import numpy as np\n",
    "import nibabel as nib\n",
    "from pathlib import Path\n",
    "import matplotlib.pyplot as plt"
   ],
   "id": "57d3053d360306a1"
  },
  {
   "metadata": {},
   "cell_type": "code",
   "outputs": [],
   "execution_count": null,
   "source": [
    "from lazy_dataset import BraTSDataset\n",
    "# DATA_DIR = '../../data-1/BraTS2021/BraTS2021_Training_Data'\n",
    "DATA_DIR = './BraTS2021_Training_Data'\n",
    "dataset = BraTSDataset(DATA_DIR, list(range(50, 70)))\n",
    "item = dataset.__getitem__(2010)\n",
    "image = item[\"image\"]\n",
    "mask = item[\"mask\"]\n",
    "plt.imshow(mask)\n",
    "plt.show()\n",
    "\n",
    "print(\"image\\t\", image.shape, image.size(), image.dtype)\n",
    "print(\"mask\\t\", mask.shape, mask.size(), mask.dtype)"
   ],
   "id": "ab1a42f434b6b75a"
  },
  {
   "metadata": {},
   "cell_type": "code",
   "outputs": [],
   "execution_count": null,
   "source": [
    "from data_preV2 import load_data, get_data_path\n",
    "paths = get_data_path(Path(DATA_DIR))\n",
    "mask = load_data(paths[0], \"mask\", 80)\n",
    "\n",
    "plt.imshow(mask)\n",
    "plt.show()"
   ],
   "id": "e5041a72e8244989"
  },
  {
   "metadata": {},
   "cell_type": "code",
   "outputs": [],
   "execution_count": null,
   "source": [
    "DATA_TYPE = (\"flair\", \"t1\", \"seg\", \"t1ce\", \"t2\")\n",
    "\n",
    "def glance_data(data_id: str, frame: int = 0):\n",
    "    fig, axs = plt.subplots(2, 3, figsize=(15, 10))\n",
    "\n",
    "    for i, data_type in enumerate(DATA_TYPE):\n",
    "        row = i // 3\n",
    "        col = i % 3\n",
    "        data_path = f\"./BraTS2021_Training_Data/BraTS2021_{data_id}/BraTS2021_{data_id}_{data_type}.nii.gz\"\n",
    "        img = nib.load(data_path).get_fdata()[:,:,frame]\n",
    "        if data_type == \"seg\":\n",
    "            print(np.unique(img))\n",
    "        axs[row, col].imshow(img)\n",
    "        axs[row, col].set_title(data_type)\n",
    "\n",
    "    fig.delaxes(axs[1, 2])\n",
    "\n",
    "    plt.tight_layout()\n",
    "    plt.show()\n",
    "\n",
    "glance_data(\"00000\", 60)"
   ],
   "id": "466085257970186f"
  }
 ],
 "metadata": {},
 "nbformat": 5,
 "nbformat_minor": 9
}
