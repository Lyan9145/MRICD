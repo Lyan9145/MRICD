{
 "cells": [
  {
   "metadata": {},
   "cell_type": "code",
   "outputs": [],
   "execution_count": null,
   "source": [
    "import torch\n",
    "import numpy as np\n",
    "import matplotlib.pyplot as plt\n",
    "from pathlib import Path\n",
    "from model import UNet\n",
    "device = torch.device('cuda' if torch.cuda.is_available() else 'cpu')"
   ],
   "id": "580c66811e7b48fe"
  },
  {
   "metadata": {},
   "cell_type": "code",
   "outputs": [],
   "execution_count": null,
   "source": [
    "# load model and set to eval mode\n",
    "model = UNet(n_channels=4, n_classes=1)\n",
    "model.load_state_dict(torch.load(\"../ckpt/0.8142160177230835_1729589887.964992.pth\", weights_only=False))\n",
    "model.to(device=device, memory_format=torch.channels_last)\n",
    "model.eval()\n",
    "\"ok\""
   ],
   "id": "f1bae424ff0b6677"
  },
  {
   "metadata": {},
   "cell_type": "code",
   "outputs": [],
   "execution_count": null,
   "source": [
    "from datasets import get_data_path, load_data\n",
    "THRESHOLD = 0.7\n",
    "IMG_TYPE = (\"flair\", \"t1\", \"t1ce\", \"t2\")\n",
    "DATA_DIR = \"./datasets/BraTS2021_Training_Data\"\n",
    "PATH_ID = 100\n",
    "KEY_FRAME = 50\n",
    "# get test input & output\n",
    "paths = get_data_path(Path(DATA_DIR))\n",
    "images = load_data(paths[PATH_ID], \"img\", KEY_FRAME)\n",
    "true_mask = load_data(paths[PATH_ID], \"mask\", KEY_FRAME)\n",
    "# glance at the input & true mask\n",
    "ax = plt.subplot(1, 3, 1)\n",
    "ax.imshow(images[0])\n",
    "ax = plt.subplot(1, 3, 2)\n",
    "ax.imshow(true_mask)\n",
    "# preprocessing image into torch Tensor\n",
    "images = np.asarray([images])\n",
    "images = torch.as_tensor(images.copy()).float().contiguous()\n",
    "images = images.to(device=device, dtype=torch.float32, memory_format=torch.channels_last)\n",
    "# inference\n",
    "res = model(images)\n",
    "pred_mask = res.cpu().squeeze().detach().numpy()\n",
    "# # normalization\n",
    "pred_mask = (pred_mask - pred_mask.min()) / (pred_mask.max() - pred_mask.min())\n",
    "pred_mask = pred_mask > (THRESHOLD * pred_mask.max())\n",
    "ax = plt.subplot(1, 3, 3)\n",
    "ax.imshow(pred_mask.astype(np.uint8))\n",
    "plt.show()"
   ],
   "id": "27a8564748341dc1"
  }
 ],
 "metadata": {
  "kernelspec": {
   "name": "python3",
   "language": "python",
   "display_name": "Python 3 (ipykernel)"
  }
 },
 "nbformat": 5,
 "nbformat_minor": 9
}
