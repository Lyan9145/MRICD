{
 "cells": [
  {
   "metadata": {
    "ExecuteTime": {
     "end_time": "2024-10-22T13:56:35.050257Z",
     "start_time": "2024-10-22T13:56:31.503504Z"
    }
   },
   "cell_type": "code",
   "source": [
    "import torch\n",
    "import numpy as np\n",
    "import matplotlib.pyplot as plt\n",
    "from pathlib import Path\n",
    "from model import UNet\n",
    "device = torch.device('cuda' if torch.cuda.is_available() else 'cpu')"
   ],
   "id": "478a82539019f7c0",
   "outputs": [],
   "execution_count": 1
  },
  {
   "metadata": {
    "ExecuteTime": {
     "end_time": "2024-10-22T13:58:46.268217Z",
     "start_time": "2024-10-22T13:58:46.008302Z"
    }
   },
   "cell_type": "code",
   "source": [
    "# load model and set to eval mode\n",
    "model = UNet(n_channels=4, n_classes=1)\n",
    "model.load_state_dict(torch.load(\"../ckpt/0.8142160177230835_1729589887.964992.pth\"))\n",
    "model.to(device=device, memory_format=torch.channels_last)\n",
    "model.eval()\n",
    "\"ok\""
   ],
   "id": "7c9c756c30a21d90",
   "outputs": [
    {
     "name": "stderr",
     "output_type": "stream",
     "text": [
      "C:\\Users\\EnricLiu\\AppData\\Local\\Temp\\ipykernel_14104\\565484761.py:3: FutureWarning: You are using `torch.load` with `weights_only=False` (the current default value), which uses the default pickle module implicitly. It is possible to construct malicious pickle data which will execute arbitrary code during unpickling (See https://github.com/pytorch/pytorch/blob/main/SECURITY.md#untrusted-models for more details). In a future release, the default value for `weights_only` will be flipped to `True`. This limits the functions that could be executed during unpickling. Arbitrary objects will no longer be allowed to be loaded via this mode unless they are explicitly allowlisted by the user via `torch.serialization.add_safe_globals`. We recommend you start setting `weights_only=True` for any use case where you don't have full control of the loaded file. Please open an issue on GitHub for any issues related to this experimental feature.\n",
      "  model.load_state_dict(torch.load(\"../ckpt/0.8142160177230835_1729589887.964992.pth\"))\n"
     ]
    },
    {
     "data": {
      "text/plain": [
       "'ok'"
      ]
     },
     "execution_count": 3,
     "metadata": {},
     "output_type": "execute_result"
    }
   ],
   "execution_count": 3
  },
  {
   "metadata": {
    "ExecuteTime": {
     "end_time": "2024-10-22T13:59:14.877154Z",
     "start_time": "2024-10-22T13:59:14.732958Z"
    }
   },
   "cell_type": "code",
   "source": [
    "from datasets import get_data_path, load_data\n",
    "DATA_DIR = \"./datasets/BraTS2021_Training_Data\"\n",
    "KEY_FRAME = 50\n",
    "# get test input & output\n",
    "paths = get_data_path(Path(DATA_DIR))\n",
    "images = load_data(paths[0], \"img\", KEY_FRAME)\n",
    "true_mask = load_data(paths[0], \"mask\", KEY_FRAME)\n",
    "# glance at the input\n",
    "plt.imshow(images[2])\n",
    "plt.show()"
   ],
   "id": "bff6b0346c57d4c1",
   "outputs": [
    {
     "ename": "FileNotFoundError",
     "evalue": "[WinError 3] 系统找不到指定的路径。: 'datasets\\\\BraTS2021\\\\BraTS2021_Training_Data'",
     "output_type": "error",
     "traceback": [
      "\u001B[1;31m---------------------------------------------------------------------------\u001B[0m",
      "\u001B[1;31mFileNotFoundError\u001B[0m                         Traceback (most recent call last)",
      "Cell \u001B[1;32mIn[4], line 5\u001B[0m\n\u001B[0;32m      3\u001B[0m KEY_FRAME \u001B[38;5;241m=\u001B[39m \u001B[38;5;241m50\u001B[39m\n\u001B[0;32m      4\u001B[0m \u001B[38;5;66;03m# get test input & output\u001B[39;00m\n\u001B[1;32m----> 5\u001B[0m paths \u001B[38;5;241m=\u001B[39m \u001B[43mget_data_path\u001B[49m\u001B[43m(\u001B[49m\u001B[43mPath\u001B[49m\u001B[43m(\u001B[49m\u001B[43mDATA_DIR\u001B[49m\u001B[43m)\u001B[49m\u001B[43m)\u001B[49m\n\u001B[0;32m      6\u001B[0m images \u001B[38;5;241m=\u001B[39m load_data(paths[\u001B[38;5;241m0\u001B[39m], \u001B[38;5;124m\"\u001B[39m\u001B[38;5;124mimg\u001B[39m\u001B[38;5;124m\"\u001B[39m, KEY_FRAME)\n\u001B[0;32m      7\u001B[0m true_mask \u001B[38;5;241m=\u001B[39m load_data(paths[\u001B[38;5;241m0\u001B[39m], \u001B[38;5;124m\"\u001B[39m\u001B[38;5;124mmask\u001B[39m\u001B[38;5;124m\"\u001B[39m, KEY_FRAME)\n",
      "File \u001B[1;32m~\\Desktop\\Projects\\MRICD\\train\\datasets\\data_preV2.py:39\u001B[0m, in \u001B[0;36mget_data_path\u001B[1;34m(dataset_path)\u001B[0m\n\u001B[0;32m     38\u001B[0m \u001B[38;5;28;01mdef\u001B[39;00m \u001B[38;5;21mget_data_path\u001B[39m(dataset_path: Path) \u001B[38;5;241m-\u001B[39m\u001B[38;5;241m>\u001B[39m \u001B[38;5;28mlist\u001B[39m:\n\u001B[1;32m---> 39\u001B[0m     \u001B[38;5;28;01mreturn\u001B[39;00m \u001B[43m[\u001B[49m\u001B[43md\u001B[49m\u001B[43m \u001B[49m\u001B[38;5;28;43;01mfor\u001B[39;49;00m\u001B[43m \u001B[49m\u001B[43md\u001B[49m\u001B[43m \u001B[49m\u001B[38;5;129;43;01min\u001B[39;49;00m\u001B[43m \u001B[49m\u001B[43mdataset_path\u001B[49m\u001B[38;5;241;43m.\u001B[39;49m\u001B[43miterdir\u001B[49m\u001B[43m(\u001B[49m\u001B[43m)\u001B[49m\u001B[43m \u001B[49m\u001B[38;5;28;43;01mif\u001B[39;49;00m\u001B[43m \u001B[49m\u001B[38;5;129;43;01mnot\u001B[39;49;00m\u001B[43m \u001B[49m\u001B[43md\u001B[49m\u001B[38;5;241;43m.\u001B[39;49m\u001B[43mname\u001B[49m\u001B[38;5;241;43m.\u001B[39;49m\u001B[43mstartswith\u001B[49m\u001B[43m(\u001B[49m\u001B[38;5;124;43m'\u001B[39;49m\u001B[38;5;124;43m.\u001B[39;49m\u001B[38;5;124;43m'\u001B[39;49m\u001B[43m)\u001B[49m\u001B[43m]\u001B[49m\n",
      "File \u001B[1;32m~\\Desktop\\Projects\\MRICD\\train\\datasets\\data_preV2.py:39\u001B[0m, in \u001B[0;36m<listcomp>\u001B[1;34m(.0)\u001B[0m\n\u001B[0;32m     38\u001B[0m \u001B[38;5;28;01mdef\u001B[39;00m \u001B[38;5;21mget_data_path\u001B[39m(dataset_path: Path) \u001B[38;5;241m-\u001B[39m\u001B[38;5;241m>\u001B[39m \u001B[38;5;28mlist\u001B[39m:\n\u001B[1;32m---> 39\u001B[0m     \u001B[38;5;28;01mreturn\u001B[39;00m \u001B[43m[\u001B[49m\u001B[43md\u001B[49m\u001B[43m \u001B[49m\u001B[38;5;28;43;01mfor\u001B[39;49;00m\u001B[43m \u001B[49m\u001B[43md\u001B[49m\u001B[43m \u001B[49m\u001B[38;5;129;43;01min\u001B[39;49;00m\u001B[43m \u001B[49m\u001B[43mdataset_path\u001B[49m\u001B[38;5;241;43m.\u001B[39;49m\u001B[43miterdir\u001B[49m\u001B[43m(\u001B[49m\u001B[43m)\u001B[49m\u001B[43m \u001B[49m\u001B[38;5;28;43;01mif\u001B[39;49;00m\u001B[43m \u001B[49m\u001B[38;5;129;43;01mnot\u001B[39;49;00m\u001B[43m \u001B[49m\u001B[43md\u001B[49m\u001B[38;5;241;43m.\u001B[39;49m\u001B[43mname\u001B[49m\u001B[38;5;241;43m.\u001B[39;49m\u001B[43mstartswith\u001B[49m\u001B[43m(\u001B[49m\u001B[38;5;124;43m'\u001B[39;49m\u001B[38;5;124;43m.\u001B[39;49m\u001B[38;5;124;43m'\u001B[39;49m\u001B[43m)\u001B[49m\u001B[43m]\u001B[49m\n",
      "File \u001B[1;32m~\\.conda\\envs\\UNet\\Lib\\pathlib.py:931\u001B[0m, in \u001B[0;36mPath.iterdir\u001B[1;34m(self)\u001B[0m\n\u001B[0;32m    927\u001B[0m \u001B[38;5;28;01mdef\u001B[39;00m \u001B[38;5;21miterdir\u001B[39m(\u001B[38;5;28mself\u001B[39m):\n\u001B[0;32m    928\u001B[0m \u001B[38;5;250m    \u001B[39m\u001B[38;5;124;03m\"\"\"Iterate over the files in this directory.  Does not yield any\u001B[39;00m\n\u001B[0;32m    929\u001B[0m \u001B[38;5;124;03m    result for the special paths '.' and '..'.\u001B[39;00m\n\u001B[0;32m    930\u001B[0m \u001B[38;5;124;03m    \"\"\"\u001B[39;00m\n\u001B[1;32m--> 931\u001B[0m     \u001B[38;5;28;01mfor\u001B[39;00m name \u001B[38;5;129;01min\u001B[39;00m \u001B[43mos\u001B[49m\u001B[38;5;241;43m.\u001B[39;49m\u001B[43mlistdir\u001B[49m\u001B[43m(\u001B[49m\u001B[38;5;28;43mself\u001B[39;49m\u001B[43m)\u001B[49m:\n\u001B[0;32m    932\u001B[0m         \u001B[38;5;28;01myield\u001B[39;00m \u001B[38;5;28mself\u001B[39m\u001B[38;5;241m.\u001B[39m_make_child_relpath(name)\n",
      "\u001B[1;31mFileNotFoundError\u001B[0m: [WinError 3] 系统找不到指定的路径。: 'datasets\\\\BraTS2021\\\\BraTS2021_Training_Data'"
     ]
    }
   ],
   "execution_count": 4
  },
  {
   "metadata": {},
   "cell_type": "code",
   "outputs": [],
   "execution_count": null,
   "source": [
    "ax = plt.subplot(1, 2, 1)\n",
    "ax.imshow(true_mask)\n",
    "# preprocessing image into torch Tensor\n",
    "images = np.asarray([images])\n",
    "images = torch.as_tensor(images.copy()).float().contiguous()\n",
    "images = images.to(device=device, dtype=torch.float32, memory_format=torch.channels_last)\n",
    "# inference\n",
    "res = model(images)\n",
    "pred_mask = res.squeeze()\n",
    "pred_mask = pred_mask.to(torch.device('cpu'))\n",
    "pred_mask = pred_mask.detach().numpy()\n",
    "# normalization\n",
    "pred_mask = (pred_mask - np.min(pred_mask)) * 1.2 / (np.max(pred_mask) - np.min(pred_mask))\n",
    "pred_mask = pred_mask.astype(np.uint8)\n",
    "\n",
    "ax = plt.subplot(1, 2, 2)\n",
    "ax.imshow(pred_mask)\n",
    "plt.show()"
   ],
   "id": "877618e5fe1a9aff"
  }
 ],
 "metadata": {
  "kernelspec": {
   "name": "python3",
   "language": "python",
   "display_name": "Python 3 (ipykernel)"
  }
 },
 "nbformat": 5,
 "nbformat_minor": 9
}
